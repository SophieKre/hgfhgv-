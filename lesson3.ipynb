{
  "nbformat": 4,
  "nbformat_minor": 0,
  "metadata": {
    "colab": {
      "provenance": []
    },
    "kernelspec": {
      "name": "python3",
      "display_name": "Python 3"
    },
    "language_info": {
      "name": "python"
    }
  },
  "cells": [
    {
      "cell_type": "code",
      "execution_count": 11,
      "metadata": {
        "id": "OqFzwPTjxQfm",
        "colab": {
          "base_uri": "https://localhost:8080/"
        },
        "outputId": "390f440f-bd6e-4a72-9755-9fabac16f341"
      },
      "outputs": [
        {
          "output_type": "stream",
          "name": "stdout",
          "text": [
            "У меня живет кошка, кошка милая, игривая и очень пушистая. Мы забрали кошку из приюта, когда кошке было 3 месяца. Любимая игра кошки - запрыгивать на шкаф.\n",
            "У меня живет Алёнка, Алёнка милая, игривая и очень пушистая. Мы забрали Алёнку из приюта, когда Алёнке было 3 месяца. Любимая игра Алёнки - запрыгивать на шкаф.\n"
          ]
        }
      ],
      "source": [
        "s = input()\n",
        "s = s.replace('кошк', 'Алёнк')\n",
        "print(s)"
      ]
    },
    {
      "cell_type": "code",
      "source": [
        "s = input().split('+')[:-1]\n",
        "for j in range(len(s)):\n",
        "  i = 0\n",
        "  while i < len(s[j]) and s[j][i].isdigit():\n",
        "    i += 1 \n",
        "  s[j] = s[j][i:]\n",
        "print(s)     \n"
      ],
      "metadata": {
        "colab": {
          "base_uri": "https://localhost:8080/"
        },
        "id": "yzGE3CnqmgjU",
        "outputId": "5b4771ee-7be3-420e-b4c3-3f29d39dfa64"
      },
      "execution_count": 12,
      "outputs": [
        {
          "output_type": "stream",
          "name": "stdout",
          "text": [
            "14a5+4zzz+175boom5+1024=0\n",
            "['a5', 'zzz', 'boom5']\n"
          ]
        }
      ]
    },
    {
      "cell_type": "code",
      "source": [
        "s = input().split()\n",
        "n = len(s)\n",
        "min = 100\n",
        "for i in range(n):\n",
        "  len_element = len(s[i])\n",
        "  if s[i].endswith('e') and len_element < min:\n",
        "    min = len_element\n",
        "    short_word = s[i]\n",
        "ss = ''\n",
        "# for i in range(n):\n",
        "#   if s[i] != short_word:\n",
        "#     ss = ss + s[i] + ' '\n",
        "# print(ss)    \n",
        "i = n - 1\n",
        "while i >= 0:\n",
        "  if s[i] == short_word:\n",
        "    del s[i]\n",
        "  i -= 1\n",
        "print(' '.join(s)) \n"
      ],
      "metadata": {
        "colab": {
          "base_uri": "https://localhost:8080/"
        },
        "id": "lrmOdLrypg_q",
        "outputId": "bbcd1c94-243d-428f-a81e-4b362582242d"
      },
      "execution_count": 18,
      "outputs": [
        {
          "output_type": "stream",
          "name": "stdout",
          "text": [
            "he trouble with programmers is that you can never tell what a programmer is doing until it’s too late\n",
            "trouble with programmers is that you can never tell what a programmer is doing until it’s too late\n"
          ]
        }
      ]
    },
    {
      "cell_type": "code",
      "source": [
        "s = input()\n",
        "max = 0\n",
        "len_C = 0\n",
        "for char in s:\n",
        "  if char == 'C':\n",
        "    len_C += 1\n",
        "    if len_C > max:\n",
        "      max = len_C\n",
        "  else:\n",
        "    len_C = 0\n",
        "print(max)         \n"
      ],
      "metadata": {
        "colab": {
          "base_uri": "https://localhost:8080/"
        },
        "id": "bAVWy0TKv_ef",
        "outputId": "e03ca509-a8b8-4101-ff61-fe254914c6c0"
      },
      "execution_count": 19,
      "outputs": [
        {
          "output_type": "stream",
          "name": "stdout",
          "text": [
            "BACBBCAAABAABBCBCCABACCAAABCCBACACBCCCBBCACBACBBABBAACCABAACCBACABCCA\n",
            "3\n"
          ]
        }
      ]
    },
    {
      "cell_type": "code",
      "source": [
        "s = input()\n",
        "char = 'C'\n",
        "while char in s:\n",
        "  char += 'C'\n",
        "print(len(char) - 1)  \n",
        " "
      ],
      "metadata": {
        "colab": {
          "base_uri": "https://localhost:8080/"
        },
        "id": "XMdqEF4bw4Wp",
        "outputId": "1ca61cb7-6121-40d6-84b1-e6c3f59605a2"
      },
      "execution_count": 20,
      "outputs": [
        {
          "output_type": "stream",
          "name": "stdout",
          "text": [
            "BACBBCAAABAABBCBCCABACCAAABCCBACACBCCCBBCACBACBBABBAACCABAACCBACABCCA\n",
            "3\n"
          ]
        }
      ]
    },
    {
      "cell_type": "code",
      "source": [
        "s = input()\n",
        "len_BCDF = 0\n",
        "max = 0\n",
        "for char in s:\n",
        "  if char in 'BCDF':\n",
        "    len_BCDF += 1\n",
        "    if len_BCDF > max:\n",
        "      max = len_BCDF\n",
        "  else:\n",
        "    len_BCDF = 0\n",
        "print(max)     "
      ],
      "metadata": {
        "colab": {
          "base_uri": "https://localhost:8080/"
        },
        "id": "yiWxaZ-QyDmG",
        "outputId": "a0f2633f-76de-4d8e-f57a-3384658bb7c6"
      },
      "execution_count": 21,
      "outputs": [
        {
          "output_type": "stream",
          "name": "stdout",
          "text": [
            "FCCAFCFBFBFCAFEABFFFECFCCDEEBECAEABEDEBDCCECFCBDFEAFAEBFAACBAAAEAACDFAB\n",
            "8\n"
          ]
        }
      ]
    },
    {
      "cell_type": "code",
      "source": [
        "n = input()\n",
        "m = input() \n",
        "while n[-1].lower() == m[0].lower():\n",
        "  n = m\n",
        "  m = input()\n",
        "print(m)   \n"
      ],
      "metadata": {
        "colab": {
          "base_uri": "https://localhost:8080/"
        },
        "id": "8yyxQX-pzOeu",
        "outputId": "216c6604-42d3-4664-e1f8-534624ba2eb0"
      },
      "execution_count": 24,
      "outputs": [
        {
          "output_type": "stream",
          "name": "stdout",
          "text": [
            "Москва\n",
            "Архангельск\n",
            "Калуга\n",
            "Архангельск\n",
            "Тула\n",
            "Тула\n"
          ]
        }
      ]
    },
    {
      "cell_type": "code",
      "source": [
        "a = []\n",
        "result = 0\n",
        "n = int(input())\n",
        "for i in range(n):\n",
        "  a.append(input())\n",
        "  if a.count(a[i]) == 2:\n",
        "    result += 2\n",
        "  elif a.count(a[i]) > 2:\n",
        "    result += 1\n",
        "print(result)      \n",
        "\n"
      ],
      "metadata": {
        "colab": {
          "base_uri": "https://localhost:8080/"
        },
        "id": "K63B-GDg2pjt",
        "outputId": "70222fa7-bb95-403a-9bfd-7e80bfd047df"
      },
      "execution_count": 25,
      "outputs": [
        {
          "output_type": "stream",
          "name": "stdout",
          "text": [
            "6\n",
            "Курск\n",
            "Калуга\n",
            "Анапа\n",
            "Анапа\n",
            "Абинск\n",
            "Курск\n",
            "4\n"
          ]
        }
      ]
    },
    {
      "cell_type": "code",
      "source": [
        "sities = [input() for i in range(int(input()))]\n",
        "print(len([i for i in sities if sities.count(i) > 1]))"
      ],
      "metadata": {
        "colab": {
          "base_uri": "https://localhost:8080/"
        },
        "id": "kOdt9k6B34cl",
        "outputId": "0c72c5fb-9f32-4830-9656-afdc09dc4fec"
      },
      "execution_count": 26,
      "outputs": [
        {
          "output_type": "stream",
          "name": "stdout",
          "text": [
            "6\n",
            "Курск\n",
            "Калуга\n",
            "Анапа\n",
            "Анапа\n",
            "Абинск\n",
            "Курск\n",
            "4\n"
          ]
        }
      ]
    },
    {
      "cell_type": "code",
      "source": [
        "number = ['1','2','5','6','7','8']\n",
        "a = list(map(int, number))\n",
        "print(a)"
      ],
      "metadata": {
        "colab": {
          "base_uri": "https://localhost:8080/"
        },
        "id": "inrbWydB6KhT",
        "outputId": "d9b108e2-677a-44d6-d65f-db6970ffe420"
      },
      "execution_count": 30,
      "outputs": [
        {
          "output_type": "stream",
          "name": "stdout",
          "text": [
            "[1, 2, 5, 6, 7, 8]\n"
          ]
        }
      ]
    },
    {
      "cell_type": "code",
      "source": [],
      "metadata": {
        "id": "9KTkdZTl7vy7"
      },
      "execution_count": null,
      "outputs": []
    },
    {
      "cell_type": "code",
      "source": [
        "a = input().split()\n",
        "b = True \n",
        "for i in range(len(a)-1, -1, -1):\n",
        "  if int(a[i]) < 0:\n",
        "    print(i)\n",
        "    b = False\n",
        "    break\n",
        "if b:\n",
        "  print('no negative value')"
      ],
      "metadata": {
        "colab": {
          "base_uri": "https://localhost:8080/"
        },
        "id": "wo_wl5V46IL8",
        "outputId": "4b299961-f16c-404c-8453-05da72ea57e0"
      },
      "execution_count": 31,
      "outputs": [
        {
          "output_type": "stream",
          "name": "stdout",
          "text": [
            "3 5 -7 -13 43 8 0 -13 8 -1\n",
            "9\n"
          ]
        }
      ]
    },
    {
      "cell_type": "code",
      "source": [
        "text = input()\n",
        "a = text.split()\n",
        "x = 0\n",
        "neg = 'no negative value'\n",
        "for i in a:\n",
        "  if i[0] == '-':\n",
        "    neg = a.index(i)\n",
        "print(neg)"
      ],
      "metadata": {
        "colab": {
          "base_uri": "https://localhost:8080/"
        },
        "id": "oT1yAEfz8aiq",
        "outputId": "94bd7c6e-027c-4b66-c1dd-6c6e50b41692"
      },
      "execution_count": 33,
      "outputs": [
        {
          "output_type": "stream",
          "name": "stdout",
          "text": [
            "3 5 -7 -13 43 8 0 -13 8 -1\n",
            "9\n"
          ]
        }
      ]
    },
    {
      "cell_type": "code",
      "source": [
        "a = list(map(int, input().split()))\n",
        "neg = -1\n",
        "for i in range(0, 10):\n",
        "  if a[i] < 0:\n",
        "    neg = i \n",
        "    break\n",
        "imx = 0\n",
        "for i in range(1, 10):\n",
        "  if a[i] >= a[imx]:\n",
        "    imx= i\n",
        "tmp = a[neg]\n",
        "a[neg] = a[imx]\n",
        "a[imx] = tmp\n",
        "for i in range(0, 10):\n",
        "  print(a[i], end = ' ')"
      ],
      "metadata": {
        "colab": {
          "base_uri": "https://localhost:8080/"
        },
        "id": "dv6wmh3g9086",
        "outputId": "3f2bef49-6b81-4f0e-c0e3-50bcfeae6ee9"
      },
      "execution_count": 34,
      "outputs": [
        {
          "output_type": "stream",
          "name": "stdout",
          "text": [
            "1 -2 3 -4 5 -6 7 -8 9 0\n",
            "1 9 3 -4 5 -6 7 -8 -2 0 "
          ]
        }
      ]
    },
    {
      "cell_type": "code",
      "source": [
        "a = [1, 4, 5, 8, 89]\n",
        "for i  in enumerate(a, start = 0):\n",
        "  print(i[1])\n"
      ],
      "metadata": {
        "colab": {
          "base_uri": "https://localhost:8080/"
        },
        "id": "YLKMKxgU_w4E",
        "outputId": "2655ad2b-1665-4a47-f5af-53c5a29ed2c4"
      },
      "execution_count": 49,
      "outputs": [
        {
          "output_type": "stream",
          "name": "stdout",
          "text": [
            "1\n",
            "4\n",
            "5\n",
            "8\n",
            "89\n"
          ]
        }
      ]
    },
    {
      "cell_type": "code",
      "source": [
        "s = input().split()\n",
        "t1 = 0 # индекс первого отрицательного элемента\n",
        "for i in enumerate(s):\n",
        "    if int(i[1]) < 0:\n",
        "        t1 = i[0]\n",
        "        break\n",
        "\n",
        "max = int(s[0])\n",
        "t2 = 0 # индекс последнего максиального элемента\n",
        "for i in enumerate(s):\n",
        "    if int(i[1]) >= max:\n",
        "        max = int(i[1])\n",
        "        t2 = i[0]\n",
        "\n",
        "s[t1], s[t2] = s[t2], s[t1]\n",
        "print(\" \".join(s))"
      ],
      "metadata": {
        "colab": {
          "base_uri": "https://localhost:8080/"
        },
        "id": "p7YQl7UWCCAo",
        "outputId": "b242e4ea-2d16-402e-e4d5-c7e74e42d602"
      },
      "execution_count": 50,
      "outputs": [
        {
          "output_type": "stream",
          "name": "stdout",
          "text": [
            "1 -2 3 -4 5 -6 7 -8 9 0\n",
            "1 9 3 -4 5 -6 7 -8 -2 0\n"
          ]
        }
      ]
    }
  ]
}